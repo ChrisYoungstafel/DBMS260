{
 "cells": [
  {
   "cell_type": "code",
   "execution_count": 22,
   "metadata": {},
   "outputs": [],
   "source": [
    "import pandas as pd\n",
    "\n",
    "file_path = \"C:\\\\Users\\\\WeirdBeard88\\\\Desktop\\\\DBMS 260\\\\Module 6\\\\olympics.csv\"\n",
    "df = pd.read_csv(file_path)\n",
    "\n",
    "df.columns = [\n",
    "    \"Country\", \"Summer_Games\", \"Summer_Gold\", \"Summer_Silver\", \"Summer_Bronze\", \"Summer_Total\",\n",
    "    \"Winter_Games\", \"Winter_Gold\", \"Winter_Silver\", \"Winter_Bronze\", \"Winter_Total\",\n",
    "    \"Total_Games\", \"Total_Gold\", \"Total_Silver\", \"Total_Bronze\", \"Combined_Total\"\n",
    "]\n",
    "\n",
    "df = df.iloc[1:].reset_index(drop=True)\n",
    "\n",
    "numeric_cols = [\n",
    "    \"Summer_Games\", \"Summer_Gold\", \"Summer_Silver\", \"Summer_Bronze\", \"Summer_Total\",\n",
    "    \"Winter_Games\", \"Winter_Gold\", \"Winter_Silver\", \"Winter_Bronze\", \"Winter_Total\",\n",
    "    \"Total_Games\", \"Total_Gold\", \"Total_Silver\", \"Total_Bronze\", \"Combined_Total\"\n",
    "]\n",
    "\n",
    "df[numeric_cols] = df[numeric_cols].apply(pd.to_numeric, errors='coerce')\n",
    "df[\"Country\"] = df[\"Country\"].str.replace(r\"\\xa0.*\", \"\", regex=True).str.strip()\n",
    "df = df[df[\"Country\"] != \"Totals\"].reset_index(drop=True)"
   ]
  },
  {
   "cell_type": "code",
   "execution_count": 23,
   "metadata": {},
   "outputs": [
    {
     "name": "stdout",
     "output_type": "stream",
     "text": [
      "Country with most gold medals in Summer Games: United States with 976\n"
     ]
    }
   ],
   "source": [
    "# 1. Country with most gold medals in the summer games\n",
    "most_summer_gold = df.loc[df[\"Summer_Gold\"].idxmax(), [\"Country\", \"Summer_Gold\"]]\n",
    "print(f\"Country with most gold medals in Summer Games: {most_summer_gold['Country']} with {most_summer_gold['Summer_Gold']}\")"
   ]
  },
  {
   "cell_type": "code",
   "execution_count": 24,
   "metadata": {},
   "outputs": [
    {
     "name": "stdout",
     "output_type": "stream",
     "text": [
      "Biggest absolute difference in gold medals: United States with 880\n"
     ]
    }
   ],
   "source": [
    "# 2. Country with the biggest absolute difference between summer and winter gold medals\n",
    "df[\"Gold_Difference\"] = abs(df[\"Summer_Gold\"] - df[\"Winter_Gold\"])\n",
    "biggest_gold_diff = df.loc[df[\"Gold_Difference\"].idxmax(), [\"Country\", \"Gold_Difference\"]]\n",
    "print(f\"Biggest absolute difference in gold medals: {biggest_gold_diff['Country']} with {biggest_gold_diff['Gold_Difference']}\")"
   ]
  },
  {
   "cell_type": "code",
   "execution_count": 25,
   "metadata": {},
   "outputs": [
    {
     "name": "stdout",
     "output_type": "stream",
     "text": [
      "Biggest relative difference in gold medals: Bulgaria with 0.96\n"
     ]
    }
   ],
   "source": [
    "# 3. Country with the biggest relative difference, considering only those with at least 1 gold in both\n",
    "eligible_countries = df[(df[\"Summer_Gold\"] > 0) & (df[\"Winter_Gold\"] > 0)].copy()\n",
    "eligible_countries[\"Relative_Difference\"] = eligible_countries[\"Gold_Difference\"] / eligible_countries[\"Total_Gold\"]\n",
    "biggest_relative_gold_diff = eligible_countries.loc[eligible_countries[\"Relative_Difference\"].idxmax(), [\"Country\", \"Relative_Difference\"]]\n",
    "print(f\"Biggest relative difference in gold medals: {biggest_relative_gold_diff['Country']} with {biggest_relative_gold_diff['Relative_Difference']:.2f}\")"
   ]
  }
 ],
 "metadata": {
  "kernelspec": {
   "display_name": "Python 3",
   "language": "python",
   "name": "python3"
  },
  "language_info": {
   "codemirror_mode": {
    "name": "ipython",
    "version": 3
   },
   "file_extension": ".py",
   "mimetype": "text/x-python",
   "name": "python",
   "nbconvert_exporter": "python",
   "pygments_lexer": "ipython3",
   "version": "3.13.2"
  }
 },
 "nbformat": 4,
 "nbformat_minor": 2
}
